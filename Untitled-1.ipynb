{
 "cells": [
  {
   "cell_type": "code",
   "execution_count": null,
   "metadata": {},
   "outputs": [],
   "source": [
    "#Import libraries\n",
    "\n",
    "import time\n",
    "\n",
    "import datetime as dt\n",
    "\n",
    "from datetime\n",
    "\n",
    "#Windows host file path\n",
    "\n",
    "hostsPath=r\"C:\\Windows\\System32\\drivers\\etc/hosts\"\n",
    "\n",
    "redirect=\"127.0.0.1\" #Add the website you want to block, in this list\n",
    "\n",
    "websites [\"www.youtube.com\",\"youtube.com\"]\n",
    "\n",
    "while True:\n",
    "\n",
    "#Duration during which, website blocker will work\n",
    "\n",
    "if dt (dt.now().year, dt.now().month, dt.now().day, 9) dt.now() < dt (dt.now().year, dt.now().month, dt.now().day, 18): with open(hostsPath, 'r+') as file: if site in content:\n",
    "\n",
    "print (\"Sorry Not Allowed...\")\n",
    "\n",
    "content file.read() for site in websites:\n",
    "\n",
    "pass\n",
    "\n",
    "else:\n",
    "\n",
    "file.write(redirect\" \"site\"\\n\")\n",
    "\n",
    "else:\n",
    "\n",
    "with open (hostsPath, 'r+') as file:\n",
    "\n",
    "content file.readlines ()\n",
    "\n",
    "file.seek (0)\n",
    "\n",
    "for line in content:\n",
    "\n",
    "if not any(site in line for site in websites): file.write(line)\n",
    "\n",
    "file.truncate()\n",
    "\n",
    "print (\"Allowed access!\")\n",
    "\n",
    "time.sleep (5)"
   ]
  }
 ],
 "metadata": {
  "language_info": {
   "name": "python"
  },
  "orig_nbformat": 4
 },
 "nbformat": 4,
 "nbformat_minor": 2
}
